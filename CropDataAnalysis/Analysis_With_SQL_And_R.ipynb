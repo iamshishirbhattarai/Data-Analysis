{
 "cells": [
  {
   "cell_type": "code",
   "execution_count": 1,
   "id": "3f89443e-5b4c-4df3-82ab-6b02e2c03136",
   "metadata": {},
   "outputs": [
    {
     "name": "stderr",
     "output_type": "stream",
     "text": [
      "Updating HTML index of packages in '.Library'\n",
      "\n",
      "Making 'packages.html' ...\n",
      " done\n",
      "\n",
      "Updating HTML index of packages in '.Library'\n",
      "\n",
      "Making 'packages.html' ...\n",
      " done\n",
      "\n"
     ]
    }
   ],
   "source": [
    "#installing required libraries\n",
    "install.packages(\"RSQLite\")\n",
    "install.packages(\"DBI\")\n",
    "library(RSQLite)\n",
    "library(DBI)"
   ]
  },
  {
   "cell_type": "code",
   "execution_count": 3,
   "id": "342d2ec2-a404-498a-aaac-a78eadbb223b",
   "metadata": {},
   "outputs": [
    {
     "data": {
      "text/plain": [
       "<SQLiteConnection>\n",
       "  Path: /Users/shishir__/Desktop/Data Science/CourseProject/CropDataAnalysis/FinalDB.sqlite\n",
       "  Extensions: TRUE"
      ]
     },
     "metadata": {},
     "output_type": "display_data"
    }
   ],
   "source": [
    "#Establishing database connection\n",
    "con <- dbConnect(RSQLite::SQLite(), \"FinalDB.sqlite\")\n",
    "con"
   ]
  },
  {
   "cell_type": "code",
   "execution_count": 29,
   "id": "6abb8d75-4d33-430b-92b4-0f1eda26bd88",
   "metadata": {},
   "outputs": [],
   "source": [
    "#creating tables\n",
    "df1 <- dbExecute(con, \n",
    "                 \"CREATE TABLE CROP_DATA (\n",
    "                   CD_ID INTEGER NOT NULL,\n",
    "                   YEAR DATE NOT NULL,\n",
    "                   CROP_TYPE VARCHAR(20) NOT NULL,\n",
    "                   GEO VARCHAR(20) NOT NULL, \n",
    "                   SEEDED_AREA INTEGER NOT NULL,\n",
    "                   HARVESTED_AREA INTEGER NOT NULL,\n",
    "                   PRODUCTION INTEGER NOT NULL,\n",
    "                   AVG_YIELD INTEGER NOT NULL,\n",
    "                   PRIMARY KEY (CD_ID)\n",
    "                 )\"\n",
    ")\n",
    "\n",
    "df2 <- dbExecute(con,\n",
    "                 \"CREATE TABLE FARM_PRICES(\n",
    "                   CD_ID INTEGER NOT NULL,\n",
    "                   DATE DATE NOT NULL,\n",
    "                   CROP_TYPE VARCHAR(50) NOT NULL,\n",
    "                   GEO VARCHAR(20) NOT NULL,\n",
    "                   PRICE_PRERMT FLOAT NOT NULL,\n",
    "                   PRIMARY KEY (CD_ID)\n",
    "                 )\",\n",
    "                 errors = FALSE\n",
    ")\n",
    "\n",
    "df3 <- dbExecute(con, \n",
    "                 \"CREATE TABLE DAILY_FX (\n",
    "                   DFX_ID INTEGER NOT NULL,\n",
    "                   DATE DATE NOT NULL,\n",
    "                   FXUSDCAD FLOAT NOT NULL,\n",
    "                   PRIMARY KEY (DFX_ID)\n",
    "                 )\"\n",
    ")\n",
    "\n",
    "df4 <- dbExecute(con, \n",
    "                 \"CREATE TABLE MONTHLY_FX (\n",
    "                   DFX_ID INTEGER NOT NULL,\n",
    "                   DATE DATE NOT NULL,\n",
    "                   FXUSDCAD FLOAT NOT NULL,\n",
    "                   PRIMARY KEY (DFX_ID)\n",
    "                 )\"\n",
    ")"
   ]
  },
  {
   "cell_type": "code",
   "execution_count": 33,
   "id": "c461f01d-9853-40cb-bafb-120fbcefcfd8",
   "metadata": {},
   "outputs": [
    {
     "data": {
      "text/html": [
       "<style>\n",
       ".list-inline {list-style: none; margin:0; padding: 0}\n",
       ".list-inline>li {display: inline-block}\n",
       ".list-inline>li:not(:last-child)::after {content: \"\\00b7\"; padding: 0 .5ex}\n",
       "</style>\n",
       "<ol class=list-inline><li>'CROP_DATA'</li><li>'DAILY_FX'</li><li>'FARM_PRICES'</li><li>'MONTHLY_FX'</li></ol>\n"
      ],
      "text/latex": [
       "\\begin{enumerate*}\n",
       "\\item 'CROP\\_DATA'\n",
       "\\item 'DAILY\\_FX'\n",
       "\\item 'FARM\\_PRICES'\n",
       "\\item 'MONTHLY\\_FX'\n",
       "\\end{enumerate*}\n"
      ],
      "text/markdown": [
       "1. 'CROP_DATA'\n",
       "2. 'DAILY_FX'\n",
       "3. 'FARM_PRICES'\n",
       "4. 'MONTHLY_FX'\n",
       "\n",
       "\n"
      ],
      "text/plain": [
       "[1] \"CROP_DATA\"   \"DAILY_FX\"    \"FARM_PRICES\" \"MONTHLY_FX\" "
      ]
     },
     "metadata": {},
     "output_type": "display_data"
    }
   ],
   "source": [
    "#Listing the created tables \n",
    "dbListTables(con)"
   ]
  },
  {
   "cell_type": "code",
   "execution_count": 35,
   "id": "a293c873-0e3b-49b6-bb22-d4b943c8ae55",
   "metadata": {},
   "outputs": [],
   "source": [
    "#Read the datasets into R dataframes from the url provided and loading the tables in database\n",
    "#Reading data\n",
    "crop_data <- read.csv('https://cf-courses-data.s3.us.cloud-object-storage.appdomain.cloud/IBM-RP0203EN-SkillsNetwork/labs/Final%20Project/Annual_Crop_Data.csv')\n",
    "farm_prices <- read.csv('https://cf-courses-data.s3.us.cloud-object-storage.appdomain.cloud/IBM-RP0203EN-SkillsNetwork/labs/Final%20Project/Monthly_Farm_Prices.csv')\n",
    "daily_fx <- read.csv('https://cf-courses-data.s3.us.cloud-object-storage.appdomain.cloud/IBM-RP0203EN-SkillsNetwork/labs/Final%20Project/Daily_FX.csv')\n",
    "monthly_fx <- read.csv('https://cf-courses-data.s3.us.cloud-object-storage.appdomain.cloud/IBM-RP0203EN-SkillsNetwork/labs/Final%20Project/Monthly_FX.csv')\n"
   ]
  },
  {
   "cell_type": "code",
   "execution_count": 37,
   "id": "32d3801d-75b2-4d77-a250-98f15dc03065",
   "metadata": {},
   "outputs": [],
   "source": [
    "#Loading into table\n",
    "dbWriteTable(con,\"CROP_DATA\", crop_data, overwrite=TRUE, header=TRUE)\n",
    "dbWriteTable(con,\"FARM_PRICES\", farm_prices, overwrite=TRUE, header=TRUE)\n",
    "dbWriteTable(con,\"DAILY_FX\", daily_fx, overwrite=TRUE, header=TRUE)\n",
    "dbWriteTable(con,\"MONTHLY_FX\", monthly_fx, overwrite=TRUE, header=TRUE)"
   ]
  },
  {
   "cell_type": "code",
   "execution_count": 39,
   "id": "2d990415-896c-4965-94e1-47fcef592522",
   "metadata": {},
   "outputs": [
    {
     "data": {
      "text/html": [
       "<table class=\"dataframe\">\n",
       "<caption>A data.frame: 1 × 1</caption>\n",
       "<thead>\n",
       "\t<tr><th scope=col>COUNT(CD_ID)</th></tr>\n",
       "\t<tr><th scope=col>&lt;int&gt;</th></tr>\n",
       "</thead>\n",
       "<tbody>\n",
       "\t<tr><td>2678</td></tr>\n",
       "</tbody>\n",
       "</table>\n"
      ],
      "text/latex": [
       "A data.frame: 1 × 1\n",
       "\\begin{tabular}{l}\n",
       " COUNT(CD\\_ID)\\\\\n",
       " <int>\\\\\n",
       "\\hline\n",
       "\t 2678\\\\\n",
       "\\end{tabular}\n"
      ],
      "text/markdown": [
       "\n",
       "A data.frame: 1 × 1\n",
       "\n",
       "| COUNT(CD_ID) &lt;int&gt; |\n",
       "|---|\n",
       "| 2678 |\n",
       "\n"
      ],
      "text/plain": [
       "  COUNT(CD_ID)\n",
       "1 2678        "
      ]
     },
     "metadata": {},
     "output_type": "display_data"
    }
   ],
   "source": [
    "#Task: How many records are in the farm prices dataset?\n",
    "dbGetQuery(con, 'SELECT COUNT(CD_ID) FROM FARM_PRICES')"
   ]
  },
  {
   "cell_type": "code",
   "execution_count": 41,
   "id": "fd522bdc-ee33-47fa-af32-10daee225866",
   "metadata": {},
   "outputs": [
    {
     "data": {
      "text/html": [
       "<table class=\"dataframe\">\n",
       "<caption>A data.frame: 2 × 1</caption>\n",
       "<thead>\n",
       "\t<tr><th scope=col>GEO</th></tr>\n",
       "\t<tr><th scope=col>&lt;chr&gt;</th></tr>\n",
       "</thead>\n",
       "<tbody>\n",
       "\t<tr><td>Alberta     </td></tr>\n",
       "\t<tr><td>Saskatchewan</td></tr>\n",
       "</tbody>\n",
       "</table>\n"
      ],
      "text/latex": [
       "A data.frame: 2 × 1\n",
       "\\begin{tabular}{l}\n",
       " GEO\\\\\n",
       " <chr>\\\\\n",
       "\\hline\n",
       "\t Alberta     \\\\\n",
       "\t Saskatchewan\\\\\n",
       "\\end{tabular}\n"
      ],
      "text/markdown": [
       "\n",
       "A data.frame: 2 × 1\n",
       "\n",
       "| GEO &lt;chr&gt; |\n",
       "|---|\n",
       "| Alberta      |\n",
       "| Saskatchewan |\n",
       "\n"
      ],
      "text/plain": [
       "  GEO         \n",
       "1 Alberta     \n",
       "2 Saskatchewan"
      ]
     },
     "metadata": {},
     "output_type": "display_data"
    }
   ],
   "source": [
    "#Task: Which geographies are included in the farm prices dataset?\n",
    "dbGetQuery(con, 'SELECT DISTINCT(GEO) FROM FARM_PRICES')"
   ]
  },
  {
   "cell_type": "code",
   "execution_count": 43,
   "id": "5e54e43a-003b-4784-92b6-d9d179314c4d",
   "metadata": {},
   "outputs": [
    {
     "data": {
      "text/html": [
       "<table class=\"dataframe\">\n",
       "<caption>A data.frame: 1 × 1</caption>\n",
       "<thead>\n",
       "\t<tr><th scope=col>SUM(HARVESTED_AREA)</th></tr>\n",
       "\t<tr><th scope=col>&lt;int&gt;</th></tr>\n",
       "</thead>\n",
       "<tbody>\n",
       "\t<tr><td>274100</td></tr>\n",
       "</tbody>\n",
       "</table>\n"
      ],
      "text/latex": [
       "A data.frame: 1 × 1\n",
       "\\begin{tabular}{l}\n",
       " SUM(HARVESTED\\_AREA)\\\\\n",
       " <int>\\\\\n",
       "\\hline\n",
       "\t 274100\\\\\n",
       "\\end{tabular}\n"
      ],
      "text/markdown": [
       "\n",
       "A data.frame: 1 × 1\n",
       "\n",
       "| SUM(HARVESTED_AREA) &lt;int&gt; |\n",
       "|---|\n",
       "| 274100 |\n",
       "\n"
      ],
      "text/plain": [
       "  SUM(HARVESTED_AREA)\n",
       "1 274100             "
      ]
     },
     "metadata": {},
     "output_type": "display_data"
    }
   ],
   "source": [
    "#Task: How many hectares of Rye were harvested in Canada in 1968?\n",
    "dbGetQuery(con, 'SELECT SUM(HARVESTED_AREA) FROM CROP_DATA\n",
    "                 WHERE CROP_TYPE=\"Rye\" AND YEAR=\"1968-12-31\" AND GEO=\"Canada\"')"
   ]
  },
  {
   "cell_type": "code",
   "execution_count": 45,
   "id": "5793d592-ed7b-47c0-9986-75d9ae16f44e",
   "metadata": {},
   "outputs": [
    {
     "data": {
      "text/html": [
       "<table class=\"dataframe\">\n",
       "<caption>A data.frame: 6 × 5</caption>\n",
       "<thead>\n",
       "\t<tr><th scope=col>CD_ID</th><th scope=col>DATE</th><th scope=col>CROP_TYPE</th><th scope=col>GEO</th><th scope=col>PRICE_PRERMT</th></tr>\n",
       "\t<tr><th scope=col>&lt;int&gt;</th><th scope=col>&lt;chr&gt;</th><th scope=col>&lt;chr&gt;</th><th scope=col>&lt;chr&gt;</th><th scope=col>&lt;dbl&gt;</th></tr>\n",
       "</thead>\n",
       "<tbody>\n",
       "\t<tr><td> 4</td><td>1985-01-01</td><td>Rye</td><td>Alberta     </td><td>100.77</td></tr>\n",
       "\t<tr><td> 5</td><td>1985-01-01</td><td>Rye</td><td>Saskatchewan</td><td>109.75</td></tr>\n",
       "\t<tr><td>10</td><td>1985-02-01</td><td>Rye</td><td>Alberta     </td><td> 95.05</td></tr>\n",
       "\t<tr><td>11</td><td>1985-02-01</td><td>Rye</td><td>Saskatchewan</td><td>103.46</td></tr>\n",
       "\t<tr><td>16</td><td>1985-03-01</td><td>Rye</td><td>Alberta     </td><td> 96.77</td></tr>\n",
       "\t<tr><td>17</td><td>1985-03-01</td><td>Rye</td><td>Saskatchewan</td><td>106.38</td></tr>\n",
       "</tbody>\n",
       "</table>\n"
      ],
      "text/latex": [
       "A data.frame: 6 × 5\n",
       "\\begin{tabular}{lllll}\n",
       " CD\\_ID & DATE & CROP\\_TYPE & GEO & PRICE\\_PRERMT\\\\\n",
       " <int> & <chr> & <chr> & <chr> & <dbl>\\\\\n",
       "\\hline\n",
       "\t  4 & 1985-01-01 & Rye & Alberta      & 100.77\\\\\n",
       "\t  5 & 1985-01-01 & Rye & Saskatchewan & 109.75\\\\\n",
       "\t 10 & 1985-02-01 & Rye & Alberta      &  95.05\\\\\n",
       "\t 11 & 1985-02-01 & Rye & Saskatchewan & 103.46\\\\\n",
       "\t 16 & 1985-03-01 & Rye & Alberta      &  96.77\\\\\n",
       "\t 17 & 1985-03-01 & Rye & Saskatchewan & 106.38\\\\\n",
       "\\end{tabular}\n"
      ],
      "text/markdown": [
       "\n",
       "A data.frame: 6 × 5\n",
       "\n",
       "| CD_ID &lt;int&gt; | DATE &lt;chr&gt; | CROP_TYPE &lt;chr&gt; | GEO &lt;chr&gt; | PRICE_PRERMT &lt;dbl&gt; |\n",
       "|---|---|---|---|---|\n",
       "|  4 | 1985-01-01 | Rye | Alberta      | 100.77 |\n",
       "|  5 | 1985-01-01 | Rye | Saskatchewan | 109.75 |\n",
       "| 10 | 1985-02-01 | Rye | Alberta      |  95.05 |\n",
       "| 11 | 1985-02-01 | Rye | Saskatchewan | 103.46 |\n",
       "| 16 | 1985-03-01 | Rye | Alberta      |  96.77 |\n",
       "| 17 | 1985-03-01 | Rye | Saskatchewan | 106.38 |\n",
       "\n"
      ],
      "text/plain": [
       "  CD_ID DATE       CROP_TYPE GEO          PRICE_PRERMT\n",
       "1  4    1985-01-01 Rye       Alberta      100.77      \n",
       "2  5    1985-01-01 Rye       Saskatchewan 109.75      \n",
       "3 10    1985-02-01 Rye       Alberta       95.05      \n",
       "4 11    1985-02-01 Rye       Saskatchewan 103.46      \n",
       "5 16    1985-03-01 Rye       Alberta       96.77      \n",
       "6 17    1985-03-01 Rye       Saskatchewan 106.38      "
      ]
     },
     "metadata": {},
     "output_type": "display_data"
    }
   ],
   "source": [
    "#Task: Query and display the first 6 rows of the farm prices table for Rye.\n",
    "dbGetQuery(con, 'SELECT * FROM FARM_PRICES\n",
    "                 WHERE CROP_TYPE=\"Rye\"\n",
    "                 LIMIT 6')"
   ]
  },
  {
   "cell_type": "code",
   "execution_count": 47,
   "id": "c1ce37b1-d63f-4fe2-a6ed-dd7b747171ed",
   "metadata": {},
   "outputs": [
    {
     "data": {
      "text/html": [
       "<table class=\"dataframe\">\n",
       "<caption>A data.frame: 3 × 1</caption>\n",
       "<thead>\n",
       "\t<tr><th scope=col>GEO</th></tr>\n",
       "\t<tr><th scope=col>&lt;chr&gt;</th></tr>\n",
       "</thead>\n",
       "<tbody>\n",
       "\t<tr><td>Alberta     </td></tr>\n",
       "\t<tr><td>Canada      </td></tr>\n",
       "\t<tr><td>Saskatchewan</td></tr>\n",
       "</tbody>\n",
       "</table>\n"
      ],
      "text/latex": [
       "A data.frame: 3 × 1\n",
       "\\begin{tabular}{l}\n",
       " GEO\\\\\n",
       " <chr>\\\\\n",
       "\\hline\n",
       "\t Alberta     \\\\\n",
       "\t Canada      \\\\\n",
       "\t Saskatchewan\\\\\n",
       "\\end{tabular}\n"
      ],
      "text/markdown": [
       "\n",
       "A data.frame: 3 × 1\n",
       "\n",
       "| GEO &lt;chr&gt; |\n",
       "|---|\n",
       "| Alberta      |\n",
       "| Canada       |\n",
       "| Saskatchewan |\n",
       "\n"
      ],
      "text/plain": [
       "  GEO         \n",
       "1 Alberta     \n",
       "2 Canada      \n",
       "3 Saskatchewan"
      ]
     },
     "metadata": {},
     "output_type": "display_data"
    }
   ],
   "source": [
    "#Task: Which provinces grew Barley?\n",
    "dbGetQuery(con, 'SELECT DISTINCT(GEO) FROM CROP_DATA\n",
    "                 WHERE CROP_TYPE=\"Barley\"')"
   ]
  },
  {
   "cell_type": "code",
   "execution_count": 49,
   "id": "afe51e24-5186-41a9-9dc7-6b38424e1c34",
   "metadata": {},
   "outputs": [
    {
     "data": {
      "text/html": [
       "<table class=\"dataframe\">\n",
       "<caption>A data.frame: 1 × 2</caption>\n",
       "<thead>\n",
       "\t<tr><th scope=col>FIRST_DATE</th><th scope=col>LAST_DATE</th></tr>\n",
       "\t<tr><th scope=col>&lt;chr&gt;</th><th scope=col>&lt;chr&gt;</th></tr>\n",
       "</thead>\n",
       "<tbody>\n",
       "\t<tr><td>1985-01-01</td><td>2020-12-01</td></tr>\n",
       "</tbody>\n",
       "</table>\n"
      ],
      "text/latex": [
       "A data.frame: 1 × 2\n",
       "\\begin{tabular}{ll}\n",
       " FIRST\\_DATE & LAST\\_DATE\\\\\n",
       " <chr> & <chr>\\\\\n",
       "\\hline\n",
       "\t 1985-01-01 & 2020-12-01\\\\\n",
       "\\end{tabular}\n"
      ],
      "text/markdown": [
       "\n",
       "A data.frame: 1 × 2\n",
       "\n",
       "| FIRST_DATE &lt;chr&gt; | LAST_DATE &lt;chr&gt; |\n",
       "|---|---|\n",
       "| 1985-01-01 | 2020-12-01 |\n",
       "\n"
      ],
      "text/plain": [
       "  FIRST_DATE LAST_DATE \n",
       "1 1985-01-01 2020-12-01"
      ]
     },
     "metadata": {},
     "output_type": "display_data"
    }
   ],
   "source": [
    "#Task: Find the first and last dates for the farm prices data\n",
    "dbGetQuery(con, 'SELECT MIN(DATE) AS FIRST_DATE, MAX(DATE) AS LAST_DATE \n",
    "                 FROM FARM_PRICES')"
   ]
  },
  {
   "cell_type": "code",
   "execution_count": 51,
   "id": "4c47d2b3-7304-4f25-8ad6-2f41aa6408ca",
   "metadata": {},
   "outputs": [
    {
     "data": {
      "text/html": [
       "<table class=\"dataframe\">\n",
       "<caption>A data.frame: 469 × 2</caption>\n",
       "<thead>\n",
       "\t<tr><th scope=col>CROP_TYPE</th><th scope=col>PRICE_PRERMT</th></tr>\n",
       "\t<tr><th scope=col>&lt;chr&gt;</th><th scope=col>&lt;dbl&gt;</th></tr>\n",
       "</thead>\n",
       "<tbody>\n",
       "\t<tr><td>Canola</td><td>350.04</td></tr>\n",
       "\t<tr><td>Canola</td><td>363.84</td></tr>\n",
       "\t<tr><td>Canola</td><td>364.36</td></tr>\n",
       "\t<tr><td>Canola</td><td>354.58</td></tr>\n",
       "\t<tr><td>Canola</td><td>359.99</td></tr>\n",
       "\t<tr><td>Canola</td><td>350.47</td></tr>\n",
       "\t<tr><td>Canola</td><td>354.05</td></tr>\n",
       "\t<tr><td>Canola</td><td>354.82</td></tr>\n",
       "\t<tr><td>Canola</td><td>357.37</td></tr>\n",
       "\t<tr><td>Canola</td><td>368.18</td></tr>\n",
       "\t<tr><td>Canola</td><td>373.35</td></tr>\n",
       "\t<tr><td>Canola</td><td>381.30</td></tr>\n",
       "\t<tr><td>Canola</td><td>380.24</td></tr>\n",
       "\t<tr><td>Canola</td><td>384.32</td></tr>\n",
       "\t<tr><td>Canola</td><td>358.59</td></tr>\n",
       "\t<tr><td>Canola</td><td>357.67</td></tr>\n",
       "\t<tr><td>Canola</td><td>367.46</td></tr>\n",
       "\t<tr><td>Canola</td><td>367.09</td></tr>\n",
       "\t<tr><td>Canola</td><td>390.35</td></tr>\n",
       "\t<tr><td>Canola</td><td>390.01</td></tr>\n",
       "\t<tr><td>Canola</td><td>402.33</td></tr>\n",
       "\t<tr><td>Canola</td><td>402.15</td></tr>\n",
       "\t<tr><td>Canola</td><td>393.65</td></tr>\n",
       "\t<tr><td>Canola</td><td>385.99</td></tr>\n",
       "\t<tr><td>Canola</td><td>375.25</td></tr>\n",
       "\t<tr><td>Canola</td><td>364.83</td></tr>\n",
       "\t<tr><td>Canola</td><td>367.91</td></tr>\n",
       "\t<tr><td>Canola</td><td>362.61</td></tr>\n",
       "\t<tr><td>Canola</td><td>370.66</td></tr>\n",
       "\t<tr><td>Canola</td><td>366.89</td></tr>\n",
       "\t<tr><td>⋮</td><td>⋮</td></tr>\n",
       "\t<tr><td>Canola</td><td>433.48</td></tr>\n",
       "\t<tr><td>Canola</td><td>432.26</td></tr>\n",
       "\t<tr><td>Canola</td><td>434.03</td></tr>\n",
       "\t<tr><td>Canola</td><td>434.73</td></tr>\n",
       "\t<tr><td>Canola</td><td>435.17</td></tr>\n",
       "\t<tr><td>Canola</td><td>437.10</td></tr>\n",
       "\t<tr><td>Canola</td><td>442.73</td></tr>\n",
       "\t<tr><td>Canola</td><td>447.92</td></tr>\n",
       "\t<tr><td>Canola</td><td>447.35</td></tr>\n",
       "\t<tr><td>Canola</td><td>449.61</td></tr>\n",
       "\t<tr><td>Canola</td><td>442.80</td></tr>\n",
       "\t<tr><td>Canola</td><td>447.85</td></tr>\n",
       "\t<tr><td>Canola</td><td>443.58</td></tr>\n",
       "\t<tr><td>Canola</td><td>450.99</td></tr>\n",
       "\t<tr><td>Canola</td><td>448.74</td></tr>\n",
       "\t<tr><td>Canola</td><td>451.96</td></tr>\n",
       "\t<tr><td>Canola</td><td>446.16</td></tr>\n",
       "\t<tr><td>Canola</td><td>453.31</td></tr>\n",
       "\t<tr><td>Canola</td><td>459.16</td></tr>\n",
       "\t<tr><td>Canola</td><td>462.88</td></tr>\n",
       "\t<tr><td>Canola</td><td>461.50</td></tr>\n",
       "\t<tr><td>Canola</td><td>464.60</td></tr>\n",
       "\t<tr><td>Canola</td><td>468.28</td></tr>\n",
       "\t<tr><td>Canola</td><td>463.52</td></tr>\n",
       "\t<tr><td>Canola</td><td>472.93</td></tr>\n",
       "\t<tr><td>Canola</td><td>474.80</td></tr>\n",
       "\t<tr><td>Canola</td><td>490.48</td></tr>\n",
       "\t<tr><td>Canola</td><td>495.64</td></tr>\n",
       "\t<tr><td>Canola</td><td>509.04</td></tr>\n",
       "\t<tr><td>Canola</td><td>507.33</td></tr>\n",
       "</tbody>\n",
       "</table>\n"
      ],
      "text/latex": [
       "A data.frame: 469 × 2\n",
       "\\begin{tabular}{ll}\n",
       " CROP\\_TYPE & PRICE\\_PRERMT\\\\\n",
       " <chr> & <dbl>\\\\\n",
       "\\hline\n",
       "\t Canola & 350.04\\\\\n",
       "\t Canola & 363.84\\\\\n",
       "\t Canola & 364.36\\\\\n",
       "\t Canola & 354.58\\\\\n",
       "\t Canola & 359.99\\\\\n",
       "\t Canola & 350.47\\\\\n",
       "\t Canola & 354.05\\\\\n",
       "\t Canola & 354.82\\\\\n",
       "\t Canola & 357.37\\\\\n",
       "\t Canola & 368.18\\\\\n",
       "\t Canola & 373.35\\\\\n",
       "\t Canola & 381.30\\\\\n",
       "\t Canola & 380.24\\\\\n",
       "\t Canola & 384.32\\\\\n",
       "\t Canola & 358.59\\\\\n",
       "\t Canola & 357.67\\\\\n",
       "\t Canola & 367.46\\\\\n",
       "\t Canola & 367.09\\\\\n",
       "\t Canola & 390.35\\\\\n",
       "\t Canola & 390.01\\\\\n",
       "\t Canola & 402.33\\\\\n",
       "\t Canola & 402.15\\\\\n",
       "\t Canola & 393.65\\\\\n",
       "\t Canola & 385.99\\\\\n",
       "\t Canola & 375.25\\\\\n",
       "\t Canola & 364.83\\\\\n",
       "\t Canola & 367.91\\\\\n",
       "\t Canola & 362.61\\\\\n",
       "\t Canola & 370.66\\\\\n",
       "\t Canola & 366.89\\\\\n",
       "\t ⋮ & ⋮\\\\\n",
       "\t Canola & 433.48\\\\\n",
       "\t Canola & 432.26\\\\\n",
       "\t Canola & 434.03\\\\\n",
       "\t Canola & 434.73\\\\\n",
       "\t Canola & 435.17\\\\\n",
       "\t Canola & 437.10\\\\\n",
       "\t Canola & 442.73\\\\\n",
       "\t Canola & 447.92\\\\\n",
       "\t Canola & 447.35\\\\\n",
       "\t Canola & 449.61\\\\\n",
       "\t Canola & 442.80\\\\\n",
       "\t Canola & 447.85\\\\\n",
       "\t Canola & 443.58\\\\\n",
       "\t Canola & 450.99\\\\\n",
       "\t Canola & 448.74\\\\\n",
       "\t Canola & 451.96\\\\\n",
       "\t Canola & 446.16\\\\\n",
       "\t Canola & 453.31\\\\\n",
       "\t Canola & 459.16\\\\\n",
       "\t Canola & 462.88\\\\\n",
       "\t Canola & 461.50\\\\\n",
       "\t Canola & 464.60\\\\\n",
       "\t Canola & 468.28\\\\\n",
       "\t Canola & 463.52\\\\\n",
       "\t Canola & 472.93\\\\\n",
       "\t Canola & 474.80\\\\\n",
       "\t Canola & 490.48\\\\\n",
       "\t Canola & 495.64\\\\\n",
       "\t Canola & 509.04\\\\\n",
       "\t Canola & 507.33\\\\\n",
       "\\end{tabular}\n"
      ],
      "text/markdown": [
       "\n",
       "A data.frame: 469 × 2\n",
       "\n",
       "| CROP_TYPE &lt;chr&gt; | PRICE_PRERMT &lt;dbl&gt; |\n",
       "|---|---|\n",
       "| Canola | 350.04 |\n",
       "| Canola | 363.84 |\n",
       "| Canola | 364.36 |\n",
       "| Canola | 354.58 |\n",
       "| Canola | 359.99 |\n",
       "| Canola | 350.47 |\n",
       "| Canola | 354.05 |\n",
       "| Canola | 354.82 |\n",
       "| Canola | 357.37 |\n",
       "| Canola | 368.18 |\n",
       "| Canola | 373.35 |\n",
       "| Canola | 381.30 |\n",
       "| Canola | 380.24 |\n",
       "| Canola | 384.32 |\n",
       "| Canola | 358.59 |\n",
       "| Canola | 357.67 |\n",
       "| Canola | 367.46 |\n",
       "| Canola | 367.09 |\n",
       "| Canola | 390.35 |\n",
       "| Canola | 390.01 |\n",
       "| Canola | 402.33 |\n",
       "| Canola | 402.15 |\n",
       "| Canola | 393.65 |\n",
       "| Canola | 385.99 |\n",
       "| Canola | 375.25 |\n",
       "| Canola | 364.83 |\n",
       "| Canola | 367.91 |\n",
       "| Canola | 362.61 |\n",
       "| Canola | 370.66 |\n",
       "| Canola | 366.89 |\n",
       "| ⋮ | ⋮ |\n",
       "| Canola | 433.48 |\n",
       "| Canola | 432.26 |\n",
       "| Canola | 434.03 |\n",
       "| Canola | 434.73 |\n",
       "| Canola | 435.17 |\n",
       "| Canola | 437.10 |\n",
       "| Canola | 442.73 |\n",
       "| Canola | 447.92 |\n",
       "| Canola | 447.35 |\n",
       "| Canola | 449.61 |\n",
       "| Canola | 442.80 |\n",
       "| Canola | 447.85 |\n",
       "| Canola | 443.58 |\n",
       "| Canola | 450.99 |\n",
       "| Canola | 448.74 |\n",
       "| Canola | 451.96 |\n",
       "| Canola | 446.16 |\n",
       "| Canola | 453.31 |\n",
       "| Canola | 459.16 |\n",
       "| Canola | 462.88 |\n",
       "| Canola | 461.50 |\n",
       "| Canola | 464.60 |\n",
       "| Canola | 468.28 |\n",
       "| Canola | 463.52 |\n",
       "| Canola | 472.93 |\n",
       "| Canola | 474.80 |\n",
       "| Canola | 490.48 |\n",
       "| Canola | 495.64 |\n",
       "| Canola | 509.04 |\n",
       "| Canola | 507.33 |\n",
       "\n"
      ],
      "text/plain": [
       "    CROP_TYPE PRICE_PRERMT\n",
       "1   Canola    350.04      \n",
       "2   Canola    363.84      \n",
       "3   Canola    364.36      \n",
       "4   Canola    354.58      \n",
       "5   Canola    359.99      \n",
       "6   Canola    350.47      \n",
       "7   Canola    354.05      \n",
       "8   Canola    354.82      \n",
       "9   Canola    357.37      \n",
       "10  Canola    368.18      \n",
       "11  Canola    373.35      \n",
       "12  Canola    381.30      \n",
       "13  Canola    380.24      \n",
       "14  Canola    384.32      \n",
       "15  Canola    358.59      \n",
       "16  Canola    357.67      \n",
       "17  Canola    367.46      \n",
       "18  Canola    367.09      \n",
       "19  Canola    390.35      \n",
       "20  Canola    390.01      \n",
       "21  Canola    402.33      \n",
       "22  Canola    402.15      \n",
       "23  Canola    393.65      \n",
       "24  Canola    385.99      \n",
       "25  Canola    375.25      \n",
       "26  Canola    364.83      \n",
       "27  Canola    367.91      \n",
       "28  Canola    362.61      \n",
       "29  Canola    370.66      \n",
       "30  Canola    366.89      \n",
       "⋮   ⋮         ⋮           \n",
       "440 Canola    433.48      \n",
       "441 Canola    432.26      \n",
       "442 Canola    434.03      \n",
       "443 Canola    434.73      \n",
       "444 Canola    435.17      \n",
       "445 Canola    437.10      \n",
       "446 Canola    442.73      \n",
       "447 Canola    447.92      \n",
       "448 Canola    447.35      \n",
       "449 Canola    449.61      \n",
       "450 Canola    442.80      \n",
       "451 Canola    447.85      \n",
       "452 Canola    443.58      \n",
       "453 Canola    450.99      \n",
       "454 Canola    448.74      \n",
       "455 Canola    451.96      \n",
       "456 Canola    446.16      \n",
       "457 Canola    453.31      \n",
       "458 Canola    459.16      \n",
       "459 Canola    462.88      \n",
       "460 Canola    461.50      \n",
       "461 Canola    464.60      \n",
       "462 Canola    468.28      \n",
       "463 Canola    463.52      \n",
       "464 Canola    472.93      \n",
       "465 Canola    474.80      \n",
       "466 Canola    490.48      \n",
       "467 Canola    495.64      \n",
       "468 Canola    509.04      \n",
       "469 Canola    507.33      "
      ]
     },
     "metadata": {},
     "output_type": "display_data"
    }
   ],
   "source": [
    "#Task: Which crops have ever reached a farm price greater than or equal to $350 per metric tonne?\n",
    "dbGetQuery(con, 'SELECT CROP_TYPE, PRICE_PRERMT FROM FARM_PRICES\n",
    "                WHERE PRICE_PRERMT >= 350')\n"
   ]
  },
  {
   "cell_type": "code",
   "execution_count": 53,
   "id": "91eb8759-2f52-4a4e-9ca8-2922193a408f",
   "metadata": {},
   "outputs": [
    {
     "data": {
      "text/html": [
       "<table class=\"dataframe\">\n",
       "<caption>A data.frame: 4 × 2</caption>\n",
       "<thead>\n",
       "\t<tr><th scope=col>CROP_TYPE</th><th scope=col>AVG_YIELD</th></tr>\n",
       "\t<tr><th scope=col>&lt;chr&gt;</th><th scope=col>&lt;int&gt;</th></tr>\n",
       "</thead>\n",
       "<tbody>\n",
       "\t<tr><td>Barley</td><td>2800</td></tr>\n",
       "\t<tr><td>Wheat </td><td>2200</td></tr>\n",
       "\t<tr><td>Rye   </td><td>2100</td></tr>\n",
       "\t<tr><td>Canola</td><td>1400</td></tr>\n",
       "</tbody>\n",
       "</table>\n"
      ],
      "text/latex": [
       "A data.frame: 4 × 2\n",
       "\\begin{tabular}{ll}\n",
       " CROP\\_TYPE & AVG\\_YIELD\\\\\n",
       " <chr> & <int>\\\\\n",
       "\\hline\n",
       "\t Barley & 2800\\\\\n",
       "\t Wheat  & 2200\\\\\n",
       "\t Rye    & 2100\\\\\n",
       "\t Canola & 1400\\\\\n",
       "\\end{tabular}\n"
      ],
      "text/markdown": [
       "\n",
       "A data.frame: 4 × 2\n",
       "\n",
       "| CROP_TYPE &lt;chr&gt; | AVG_YIELD &lt;int&gt; |\n",
       "|---|---|\n",
       "| Barley | 2800 |\n",
       "| Wheat  | 2200 |\n",
       "| Rye    | 2100 |\n",
       "| Canola | 1400 |\n",
       "\n"
      ],
      "text/plain": [
       "  CROP_TYPE AVG_YIELD\n",
       "1 Barley    2800     \n",
       "2 Wheat     2200     \n",
       "3 Rye       2100     \n",
       "4 Canola    1400     "
      ]
     },
     "metadata": {},
     "output_type": "display_data"
    }
   ],
   "source": [
    "#Task: Rank the crop types harvested in Saskatchewan in the year 2000 by their average yield.\n",
    "#Which crop performed best?\n",
    "\n",
    "dbGetQuery(con,'SELECT CROP_TYPE, AVG_YIELD \n",
    "                FROM CROP_DATA\n",
    "                WHERE GEO=\"Saskatchewan\" AND YEAR=\"2000-12-31\"\n",
    "                ORDER BY AVG_YIELD DESC ')"
   ]
  },
  {
   "cell_type": "code",
   "execution_count": 55,
   "id": "09fc3178-118e-4c93-959c-b8ead1e6eece",
   "metadata": {},
   "outputs": [
    {
     "data": {
      "text/html": [
       "<table class=\"dataframe\">\n",
       "<caption>A data.frame: 12 × 3</caption>\n",
       "<thead>\n",
       "\t<tr><th scope=col>CROP_TYPE</th><th scope=col>GEO</th><th scope=col>AVG_YIELD</th></tr>\n",
       "\t<tr><th scope=col>&lt;chr&gt;</th><th scope=col>&lt;chr&gt;</th><th scope=col>&lt;int&gt;</th></tr>\n",
       "</thead>\n",
       "<tbody>\n",
       "\t<tr><td>Barley</td><td>Alberta     </td><td>3000</td></tr>\n",
       "\t<tr><td>Barley</td><td>Canada      </td><td>3000</td></tr>\n",
       "\t<tr><td>Barley</td><td>Saskatchewan</td><td>2800</td></tr>\n",
       "\t<tr><td>Wheat </td><td>Alberta     </td><td>2500</td></tr>\n",
       "\t<tr><td>Wheat </td><td>Canada      </td><td>2400</td></tr>\n",
       "\t<tr><td>Rye   </td><td>Canada      </td><td>2300</td></tr>\n",
       "\t<tr><td>Wheat </td><td>Saskatchewan</td><td>2200</td></tr>\n",
       "\t<tr><td>Rye   </td><td>Alberta     </td><td>2100</td></tr>\n",
       "\t<tr><td>Rye   </td><td>Saskatchewan</td><td>2100</td></tr>\n",
       "\t<tr><td>Canola</td><td>Alberta     </td><td>1500</td></tr>\n",
       "\t<tr><td>Canola</td><td>Canada      </td><td>1500</td></tr>\n",
       "\t<tr><td>Canola</td><td>Saskatchewan</td><td>1400</td></tr>\n",
       "</tbody>\n",
       "</table>\n"
      ],
      "text/latex": [
       "A data.frame: 12 × 3\n",
       "\\begin{tabular}{lll}\n",
       " CROP\\_TYPE & GEO & AVG\\_YIELD\\\\\n",
       " <chr> & <chr> & <int>\\\\\n",
       "\\hline\n",
       "\t Barley & Alberta      & 3000\\\\\n",
       "\t Barley & Canada       & 3000\\\\\n",
       "\t Barley & Saskatchewan & 2800\\\\\n",
       "\t Wheat  & Alberta      & 2500\\\\\n",
       "\t Wheat  & Canada       & 2400\\\\\n",
       "\t Rye    & Canada       & 2300\\\\\n",
       "\t Wheat  & Saskatchewan & 2200\\\\\n",
       "\t Rye    & Alberta      & 2100\\\\\n",
       "\t Rye    & Saskatchewan & 2100\\\\\n",
       "\t Canola & Alberta      & 1500\\\\\n",
       "\t Canola & Canada       & 1500\\\\\n",
       "\t Canola & Saskatchewan & 1400\\\\\n",
       "\\end{tabular}\n"
      ],
      "text/markdown": [
       "\n",
       "A data.frame: 12 × 3\n",
       "\n",
       "| CROP_TYPE &lt;chr&gt; | GEO &lt;chr&gt; | AVG_YIELD &lt;int&gt; |\n",
       "|---|---|---|\n",
       "| Barley | Alberta      | 3000 |\n",
       "| Barley | Canada       | 3000 |\n",
       "| Barley | Saskatchewan | 2800 |\n",
       "| Wheat  | Alberta      | 2500 |\n",
       "| Wheat  | Canada       | 2400 |\n",
       "| Rye    | Canada       | 2300 |\n",
       "| Wheat  | Saskatchewan | 2200 |\n",
       "| Rye    | Alberta      | 2100 |\n",
       "| Rye    | Saskatchewan | 2100 |\n",
       "| Canola | Alberta      | 1500 |\n",
       "| Canola | Canada       | 1500 |\n",
       "| Canola | Saskatchewan | 1400 |\n",
       "\n"
      ],
      "text/plain": [
       "   CROP_TYPE GEO          AVG_YIELD\n",
       "1  Barley    Alberta      3000     \n",
       "2  Barley    Canada       3000     \n",
       "3  Barley    Saskatchewan 2800     \n",
       "4  Wheat     Alberta      2500     \n",
       "5  Wheat     Canada       2400     \n",
       "6  Rye       Canada       2300     \n",
       "7  Wheat     Saskatchewan 2200     \n",
       "8  Rye       Alberta      2100     \n",
       "9  Rye       Saskatchewan 2100     \n",
       "10 Canola    Alberta      1500     \n",
       "11 Canola    Canada       1500     \n",
       "12 Canola    Saskatchewan 1400     "
      ]
     },
     "metadata": {},
     "output_type": "display_data"
    }
   ],
   "source": [
    "#Task : Rank the crops and geographies by their average yield (KG per hectare) since the year 2000. \n",
    "#Which crop and province had the highest average yield since the year 2000?\n",
    "\n",
    "dbGetQuery(con, 'SELECT CROP_TYPE, GEO, AVG_YIELD FROM CROP_DATA\n",
    "                WHERE YEAR >=\"2000\"\n",
    "                GROUP BY CROP_TYPE, GEO\n",
    "                ORDER BY AVG_YIELD DESC')"
   ]
  },
  {
   "cell_type": "code",
   "execution_count": 57,
   "id": "41d4fada-96ab-4646-abfe-f88dc4b2986f",
   "metadata": {},
   "outputs": [
    {
     "data": {
      "text/html": [
       "<table class=\"dataframe\">\n",
       "<caption>A data.frame: 1 × 4</caption>\n",
       "<thead>\n",
       "\t<tr><th scope=col>YEAR</th><th scope=col>CROP_TYPE</th><th scope=col>GEO</th><th scope=col>HARVESTED_AREA</th></tr>\n",
       "\t<tr><th scope=col>&lt;chr&gt;</th><th scope=col>&lt;chr&gt;</th><th scope=col>&lt;chr&gt;</th><th scope=col>&lt;int&gt;</th></tr>\n",
       "</thead>\n",
       "<tbody>\n",
       "\t<tr><td>2020-12-31</td><td>Wheat</td><td>Canada</td><td>10017800</td></tr>\n",
       "</tbody>\n",
       "</table>\n"
      ],
      "text/latex": [
       "A data.frame: 1 × 4\n",
       "\\begin{tabular}{llll}\n",
       " YEAR & CROP\\_TYPE & GEO & HARVESTED\\_AREA\\\\\n",
       " <chr> & <chr> & <chr> & <int>\\\\\n",
       "\\hline\n",
       "\t 2020-12-31 & Wheat & Canada & 10017800\\\\\n",
       "\\end{tabular}\n"
      ],
      "text/markdown": [
       "\n",
       "A data.frame: 1 × 4\n",
       "\n",
       "| YEAR &lt;chr&gt; | CROP_TYPE &lt;chr&gt; | GEO &lt;chr&gt; | HARVESTED_AREA &lt;int&gt; |\n",
       "|---|---|---|---|\n",
       "| 2020-12-31 | Wheat | Canada | 10017800 |\n",
       "\n"
      ],
      "text/plain": [
       "  YEAR       CROP_TYPE GEO    HARVESTED_AREA\n",
       "1 2020-12-31 Wheat     Canada 10017800      "
      ]
     },
     "metadata": {},
     "output_type": "display_data"
    }
   ],
   "source": [
    "#Task: Use a subquery to determine how much wheat was harvested in Canada in the most recent year of the data\n",
    "dbGetQuery(con, 'SELECT YEAR, CROP_TYPE, GEO, HARVESTED_AREA FROM CROP_DATA\n",
    "                 WHERE CROP_TYPE=\"Wheat\" AND GEO=\"Canada\" AND\n",
    "                 YEAR= (SELECT MAX(YEAR) FROM CROP_DATA)')"
   ]
  },
  {
   "cell_type": "code",
   "execution_count": 59,
   "id": "de0348fd-6b6d-4b18-ad84-1a875324e199",
   "metadata": {},
   "outputs": [
    {
     "data": {
      "text/html": [
       "<table class=\"dataframe\">\n",
       "<caption>A data.frame: 6 × 3</caption>\n",
       "<thead>\n",
       "\t<tr><th scope=col>DATE</th><th scope=col>CAD</th><th scope=col>USD</th></tr>\n",
       "\t<tr><th scope=col>&lt;chr&gt;</th><th scope=col>&lt;dbl&gt;</th><th scope=col>&lt;dbl&gt;</th></tr>\n",
       "</thead>\n",
       "<tbody>\n",
       "\t<tr><td>2020-12-01</td><td>507.33</td><td>396.1128</td></tr>\n",
       "\t<tr><td>2020-11-01</td><td>495.64</td><td>379.2718</td></tr>\n",
       "\t<tr><td>2020-10-01</td><td>474.80</td><td>359.2965</td></tr>\n",
       "\t<tr><td>2020-09-01</td><td>463.52</td><td>350.4057</td></tr>\n",
       "\t<tr><td>2020-08-01</td><td>464.60</td><td>351.3827</td></tr>\n",
       "\t<tr><td>2020-07-01</td><td>462.88</td><td>342.9122</td></tr>\n",
       "</tbody>\n",
       "</table>\n"
      ],
      "text/latex": [
       "A data.frame: 6 × 3\n",
       "\\begin{tabular}{lll}\n",
       " DATE & CAD & USD\\\\\n",
       " <chr> & <dbl> & <dbl>\\\\\n",
       "\\hline\n",
       "\t 2020-12-01 & 507.33 & 396.1128\\\\\n",
       "\t 2020-11-01 & 495.64 & 379.2718\\\\\n",
       "\t 2020-10-01 & 474.80 & 359.2965\\\\\n",
       "\t 2020-09-01 & 463.52 & 350.4057\\\\\n",
       "\t 2020-08-01 & 464.60 & 351.3827\\\\\n",
       "\t 2020-07-01 & 462.88 & 342.9122\\\\\n",
       "\\end{tabular}\n"
      ],
      "text/markdown": [
       "\n",
       "A data.frame: 6 × 3\n",
       "\n",
       "| DATE &lt;chr&gt; | CAD &lt;dbl&gt; | USD &lt;dbl&gt; |\n",
       "|---|---|---|\n",
       "| 2020-12-01 | 507.33 | 396.1128 |\n",
       "| 2020-11-01 | 495.64 | 379.2718 |\n",
       "| 2020-10-01 | 474.80 | 359.2965 |\n",
       "| 2020-09-01 | 463.52 | 350.4057 |\n",
       "| 2020-08-01 | 464.60 | 351.3827 |\n",
       "| 2020-07-01 | 462.88 | 342.9122 |\n",
       "\n"
      ],
      "text/plain": [
       "  DATE       CAD    USD     \n",
       "1 2020-12-01 507.33 396.1128\n",
       "2 2020-11-01 495.64 379.2718\n",
       "3 2020-10-01 474.80 359.2965\n",
       "4 2020-09-01 463.52 350.4057\n",
       "5 2020-08-01 464.60 351.3827\n",
       "6 2020-07-01 462.88 342.9122"
      ]
     },
     "metadata": {},
     "output_type": "display_data"
    }
   ],
   "source": [
    "#Task: Use an implicit inner join to calculate the monthly price per metric tonne of Canola grown\n",
    "#in Saskatchewan in both Canadian and US dollars.\n",
    "#Display the most recent 6 months of the data.\n",
    "dbGetQuery(con,'SELECT A.DATE, (A.PRICE_PRERMT) AS CAD, (A.PRICE_PRERMT/B.FXUSDCAD) AS USD\n",
    "                FROM FARM_PRICES AS A\n",
    "                INNER JOIN MONTHLY_FX AS B USING(DATE)\n",
    "                WHERE A.GEO= \"Saskatchewan\" AND A.CROP_TYPE=\"Canola\"\n",
    "                ORDER BY A.DATE DESC\n",
    "                LIMIT 6')"
   ]
  },
  {
   "cell_type": "code",
   "execution_count": null,
   "id": "75c85733-fd6c-4af6-bba4-259f138e69f9",
   "metadata": {},
   "outputs": [],
   "source": []
  }
 ],
 "metadata": {
  "kernelspec": {
   "display_name": "R",
   "language": "R",
   "name": "ir"
  },
  "language_info": {
   "codemirror_mode": "r",
   "file_extension": ".r",
   "mimetype": "text/x-r-source",
   "name": "R",
   "pygments_lexer": "r",
   "version": "4.1.1"
  }
 },
 "nbformat": 4,
 "nbformat_minor": 5
}
